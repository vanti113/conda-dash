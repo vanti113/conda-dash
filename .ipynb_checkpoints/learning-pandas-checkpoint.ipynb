{
 "cells": [
  {
   "cell_type": "code",
   "execution_count": 41,
   "id": "326df091",
   "metadata": {},
   "outputs": [
    {
     "data": {
      "text/plain": [
       "Index(['Confirmed', 'Deaths', 'Recovered'], dtype='object')"
      ]
     },
     "execution_count": 41,
     "metadata": {},
     "output_type": "execute_result"
    }
   ],
   "source": [
    "import pandas as pd\n",
    "import numpy as np\n",
    "\n",
    "#data = pd.read_csv(\"./data/daily_reports.csv\", index_col=\"Country_Region\")\n",
    "# 데이터를 읽어들이는 단계에서 index_col옵션을 이용하여 인덱스가 되는 컬럼을 지정할수 있다\n",
    "data = pd.read_csv(\"./data/daily_reports.csv\")\n",
    "data.head()\n",
    "daily_df = data[[\"Confirmed\", \"Deaths\", \"Recovered\"]].sum()\n",
    "daily_df.columns"
   ]
  },
  {
   "cell_type": "code",
   "execution_count": null,
   "id": "93e05856",
   "metadata": {},
   "outputs": [],
   "source": []
  }
 ],
 "metadata": {
  "kernelspec": {
   "display_name": "Python 3",
   "language": "python",
   "name": "python3"
  },
  "language_info": {
   "codemirror_mode": {
    "name": "ipython",
    "version": 3
   },
   "file_extension": ".py",
   "mimetype": "text/x-python",
   "name": "python",
   "nbconvert_exporter": "python",
   "pygments_lexer": "ipython3",
   "version": "3.9.5"
  },
  "varInspector": {
   "cols": {
    "lenName": 16,
    "lenType": 16,
    "lenVar": 40
   },
   "kernels_config": {
    "python": {
     "delete_cmd_postfix": "",
     "delete_cmd_prefix": "del ",
     "library": "var_list.py",
     "varRefreshCmd": "print(var_dic_list())"
    },
    "r": {
     "delete_cmd_postfix": ") ",
     "delete_cmd_prefix": "rm(",
     "library": "var_list.r",
     "varRefreshCmd": "cat(var_dic_list()) "
    }
   },
   "types_to_exclude": [
    "module",
    "function",
    "builtin_function_or_method",
    "instance",
    "_Feature"
   ],
   "window_display": false
  }
 },
 "nbformat": 4,
 "nbformat_minor": 5
}
