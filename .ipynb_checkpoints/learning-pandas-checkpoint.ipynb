{
 "cells": [
  {
   "cell_type": "code",
   "execution_count": 14,
   "id": "e7949bc7",
   "metadata": {},
   "outputs": [],
   "source": [
    "import pandas as pd\n",
    "\n",
    "daily_df = pd.read_csv(\"./data/daily_reports.csv\")\n",
    "\"----------------------------------------------------------------\"\n",
    "totals_df = daily_df[[\"Confirmed\", \"Deaths\", \"Recovered\"]\n",
    "                     ].sum().reset_index(name=\"count\")\n",
    "totals_df = totals_df.rename(columns={\"index\": \"condition\"})\n",
    "\n",
    "countries_df = daily_df[[\"Country_Region\", \"Confirmed\", \"Deaths\", \"Recovered\"]]\n",
    "countries_df = countries_df.groupby(\"Country_Region\").sum().reset_index()\n",
    "countries_df = countries_df.rename(columns={\"Country_Region\":\"Country Region\"})\n",
    "new_df = countries_df.sort_values(\"Confirmed\", ascending=False)[:8]"
   ]
  },
  {
   "cell_type": "code",
   "execution_count": 40,
   "id": "ce4a2962",
   "metadata": {},
   "outputs": [
    {
     "name": "stdout",
     "output_type": "stream",
     "text": [
      "['US' 33239700 593955 0.0]\n",
      "['India' 27555457 318895 24893410.0]\n",
      "['Brazil' 16391930 459045 14492701.0]\n",
      "['France' 5708350 109452 390196.0]\n",
      "['Turkey' 5228322 47134 5083099.0]\n",
      "['Russia' 4986458 118386 4607276.0]\n",
      "['United Kingdom' 4493582 128030 15480.0]\n",
      "['Italy' 4209707 125919 3837518.0]\n"
     ]
    }
   ],
   "source": [
    "# new_df.iloc[0]\n",
    "# new_df.values\n",
    "np = new_df.to_numpy()\n",
    "for i in np:\n",
    "    print(i)"
   ]
  },
  {
   "cell_type": "code",
   "execution_count": 7,
   "id": "99017324",
   "metadata": {},
   "outputs": [
    {
     "data": {
      "text/html": [
       "<div>\n",
       "<style scoped>\n",
       "    .dataframe tbody tr th:only-of-type {\n",
       "        vertical-align: middle;\n",
       "    }\n",
       "\n",
       "    .dataframe tbody tr th {\n",
       "        vertical-align: top;\n",
       "    }\n",
       "\n",
       "    .dataframe thead th {\n",
       "        text-align: right;\n",
       "    }\n",
       "</style>\n",
       "<table border=\"1\" class=\"dataframe\">\n",
       "  <thead>\n",
       "    <tr style=\"text-align: right;\">\n",
       "      <th></th>\n",
       "      <th>Total</th>\n",
       "    </tr>\n",
       "  </thead>\n",
       "  <tbody>\n",
       "    <tr>\n",
       "      <th>0</th>\n",
       "      <td>69130.0</td>\n",
       "    </tr>\n",
       "    <tr>\n",
       "      <th>1</th>\n",
       "      <td>132285.0</td>\n",
       "    </tr>\n",
       "    <tr>\n",
       "      <th>2</th>\n",
       "      <td>128198.0</td>\n",
       "    </tr>\n",
       "    <tr>\n",
       "      <th>3</th>\n",
       "      <td>2881.0</td>\n",
       "    </tr>\n",
       "    <tr>\n",
       "      <th>4</th>\n",
       "      <td>2448.0</td>\n",
       "    </tr>\n",
       "    <tr>\n",
       "      <th>5</th>\n",
       "      <td>3455.0</td>\n",
       "    </tr>\n",
       "    <tr>\n",
       "      <th>6</th>\n",
       "      <td>57119.0</td>\n",
       "    </tr>\n",
       "    <tr>\n",
       "      <th>7</th>\n",
       "      <td>129097.0</td>\n",
       "    </tr>\n",
       "    <tr>\n",
       "      <th>8</th>\n",
       "      <td>89232.0</td>\n",
       "    </tr>\n",
       "  </tbody>\n",
       "</table>\n",
       "</div>"
      ],
      "text/plain": [
       "      Total\n",
       "0   69130.0\n",
       "1  132285.0\n",
       "2  128198.0\n",
       "3    2881.0\n",
       "4    2448.0\n",
       "5    3455.0\n",
       "6   57119.0\n",
       "7  129097.0\n",
       "8   89232.0"
      ]
     },
     "execution_count": 7,
     "metadata": {},
     "output_type": "execute_result"
    }
   ],
   "source": [
    "country_df = pd.DataFrame({\"Country\":[j for i in test_df.index for j in test_df[\"Country Region\"]],\n",
    "                           \"Total\":[j for i in test_df.index \n",
    "                                    for j in [test_df[\"Confirmed\"].iloc[i], \n",
    "                                              test_df[\"Deaths\"].iloc[i], \n",
    "                                              test_df[\"Recovered\"].iloc[i]]],\n",
    "                           \"Status\": [status for status in test_df.columns[1:4] for j in test_df.index]\n",
    "                        })\n",
    "\n",
    "total_df = pd.DataFrame({\"Total\":[j.iloc[i] for j in [test_df[\"Confirmed\"], \n",
    "                                              test_df[\"Deaths\"], \n",
    "                                              test_df[\"Recovered\"]] for i in test_df.index]})\n",
    "# test_df.columns[1:4]\n",
    "\n",
    "status_df = pd.DataFrame({\"Status\": [status for status in test_df.columns[1:4] for j in test_df.index]})\n",
    "total_df\n"
   ]
  },
  {
   "cell_type": "code",
   "execution_count": null,
   "id": "69b025a7",
   "metadata": {},
   "outputs": [],
   "source": [
    "daily_df"
   ]
  }
 ],
 "metadata": {
  "kernelspec": {
   "display_name": "Python 3",
   "language": "python",
   "name": "python3"
  },
  "language_info": {
   "codemirror_mode": {
    "name": "ipython",
    "version": 3
   },
   "file_extension": ".py",
   "mimetype": "text/x-python",
   "name": "python",
   "nbconvert_exporter": "python",
   "pygments_lexer": "ipython3",
   "version": "3.9.5"
  },
  "varInspector": {
   "cols": {
    "lenName": 16,
    "lenType": 16,
    "lenVar": 40
   },
   "kernels_config": {
    "python": {
     "delete_cmd_postfix": "",
     "delete_cmd_prefix": "del ",
     "library": "var_list.py",
     "varRefreshCmd": "print(var_dic_list())"
    },
    "r": {
     "delete_cmd_postfix": ") ",
     "delete_cmd_prefix": "rm(",
     "library": "var_list.r",
     "varRefreshCmd": "cat(var_dic_list()) "
    }
   },
   "types_to_exclude": [
    "module",
    "function",
    "builtin_function_or_method",
    "instance",
    "_Feature"
   ],
   "window_display": false
  }
 },
 "nbformat": 4,
 "nbformat_minor": 5
}
