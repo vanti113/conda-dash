{
 "cells": [
  {
   "cell_type": "code",
   "execution_count": 2,
   "id": "5f8e7eeb",
   "metadata": {},
   "outputs": [],
   "source": [
    "from datas import *\n",
    "import plotly.express as px"
   ]
  },
  {
   "cell_type": "code",
   "execution_count": 4,
   "id": "cf5a5d60",
   "metadata": {},
   "outputs": [
    {
     "data": {
      "application/vnd.plotly.v1+json": {
       "config": {
        "plotlyServerURL": "https://plot.ly"
       },
       "data": [
        {
         "customdata": [
          [
           33239700,
           593955,
           0,
           "US"
          ],
          [
           27555457,
           318895,
           24893410,
           "India"
          ],
          [
           16391930,
           459045,
           14492701,
           "Brazil"
          ],
          [
           5708350,
           109452,
           390196,
           "France"
          ],
          [
           5228322,
           47134,
           5083099,
           "Turkey"
          ],
          [
           4986458,
           118386,
           4607276,
           "Russia"
          ],
          [
           4493582,
           128030,
           15480,
           "United Kingdom"
          ],
          [
           4209707,
           125919,
           3837518,
           "Italy"
          ],
          [
           3702422,
           76693,
           3252843,
           "Argentina"
          ],
          [
           3680159,
           88360,
           3472650,
           "Germany"
          ],
          [
           3668658,
           79905,
           150376,
           "Spain"
          ],
          [
           3342567,
           87207,
           3121888,
           "Colombia"
          ],
          [
           2886111,
           79568,
           2410252,
           "Iran"
          ],
          [
           2870595,
           73557,
           2634711,
           "Poland"
          ],
          [
           2408778,
           223072,
           1923744,
           "Mexico"
          ],
          [
           2254674,
           52252,
           2074174,
           "Ukraine"
          ],
          [
           1942054,
           68816,
           1892794,
           "Peru"
          ],
          [
           1803361,
           50100,
           1654557,
           "Indonesia"
          ],
          [
           1668581,
           17881,
           26780,
           "Netherlands"
          ],
          [
           1660481,
           30088,
           1615008,
           "Czechia"
          ],
          [
           1654551,
           56293,
           1551520,
           "South Africa"
          ],
          [
           1382107,
           25424,
           1318719,
           "Canada"
          ],
          [
           1361381,
           28928,
           1287804,
           "Chile"
          ],
          [
           1209154,
           20566,
           1134818,
           "Philippines"
          ],
          [
           1190351,
           16311,
           1101676,
           "Iraq"
          ],
          [
           1077161,
           30174,
           1037729,
           "Romania"
          ],
          [
           1068473,
           14451,
           0,
           "Sweden"
          ],
          [
           1057903,
           24910,
           0,
           "Belgium"
          ],
          [
           916239,
           20680,
           836702,
           "Pakistan"
          ],
          [
           847604,
           17023,
           808047,
           "Portugal"
          ],
          [
           839433,
           6407,
           832525,
           "Israel"
          ],
          [
           803567,
           29682,
           689166,
           "Hungary"
          ],
          [
           796343,
           12511,
           736221,
           "Bangladesh"
          ],
          [
           738935,
           12786,
           659576,
           "Japan"
          ],
          [
           734659,
           9436,
           713633,
           "Jordan"
          ],
          [
           711772,
           6834,
           0,
           "Serbia"
          ],
          [
           693023,
           10801,
           317600,
           "Switzerland"
          ],
          [
           643709,
           10588,
           626815,
           "Austria"
          ],
          [
           565451,
           1668,
           545229,
           "United Arab Emirates"
          ],
          [
           549514,
           2552,
           474139,
           "Malaysia"
          ],
          [
           549111,
           7047,
           428670,
           "Nepal"
          ],
          [
           539888,
           7711,
           516530,
           "Lebanon"
          ],
          [
           518458,
           9135,
           506443,
           "Morocco"
          ],
          [
           447178,
           7320,
           429663,
           "Saudi Arabia"
          ],
          [
           438619,
           3435,
           402182,
           "Kazakhstan"
          ],
          [
           423165,
           20408,
           366425,
           "Ecuador"
          ],
          [
           418106,
           17652,
           380254,
           "Bulgaria"
          ],
          [
           398898,
           11995,
           93764,
           "Greece"
          ],
          [
           391637,
           2821,
           382167,
           "Belarus"
          ],
          [
           389440,
           12333,
           255300,
           "Slovakia"
          ],
          [
           376854,
           6365,
           364297,
           "Panama"
          ],
          [
           364570,
           14377,
           289809,
           "Bolivia"
          ],
          [
           355617,
           7992,
           344899,
           "Croatia"
          ],
          [
           348184,
           8892,
           286005,
           "Paraguay"
          ],
          [
           341952,
           12513,
           299771,
           "Tunisia"
          ],
          [
           341894,
           4727,
           324426,
           "Georgia"
          ],
          [
           333559,
           4896,
           323198,
           "Azerbaijan"
          ],
          [
           314102,
           3962,
           242019,
           "Costa Rica"
          ],
          [
           307569,
           3489,
           300125,
           "West Bank and Gaza"
          ],
          [
           305583,
           1760,
           290377,
           "Kuwait"
          ],
          [
           289288,
           3623,
           238615,
           "Dominican Republic"
          ],
          [
           282198,
           4118,
           242661,
           "Uruguay"
          ],
          [
           279139,
           2513,
           263450,
           "Denmark"
          ],
          [
           273346,
           4235,
           252582,
           "Lithuania"
          ],
          [
           270944,
           4139,
           235850,
           "Ethiopia"
          ],
          [
           259540,
           14950,
           190254,
           "Egypt"
          ],
          [
           255060,
           6097,
           247240,
           "Moldova"
          ],
          [
           254870,
           4941,
           23364,
           "Ireland"
          ],
          [
           253140,
           4370,
           244153,
           "Slovenia"
          ],
          [
           252929,
           8094,
           231594,
           "Guatemala"
          ],
          [
           236451,
           6284,
           84223,
           "Honduras"
          ],
          [
           232425,
           923,
           203429,
           "Bahrain"
          ],
          [
           230147,
           2595,
           212199,
           "Venezuela"
          ],
          [
           222513,
           4423,
           212566,
           "Armenia"
          ],
          [
           216885,
           552,
           212379,
           "Qatar"
          ],
          [
           213784,
           2303,
           197080,
           "Oman"
          ],
          [
           203839,
           9211,
           174236,
           "Bosnia and Herzegovina"
          ],
          [
           184815,
           3116,
           171279,
           "Libya"
          ],
          [
           177711,
           1363,
           146362,
           "Sri Lanka"
          ],
          [
           170041,
           3124,
           116018,
           "Kenya"
          ],
          [
           166254,
           2071,
           156546,
           "Nigeria"
          ],
          [
           155217,
           5387,
           147381,
           "North Macedonia"
          ],
          [
           147039,
           954,
           26873,
           "Thailand"
          ],
          [
           143486,
           3216,
           132279,
           "Burma"
          ],
          [
           139431,
           1951,
           129739,
           "Korea, South"
          ],
          [
           138899,
           933,
           131461,
           "Cuba"
          ],
          [
           132612,
           2359,
           124147,
           "Latvia"
          ],
          [
           132285,
           2448,
           129097,
           "Albania"
          ],
          [
           129297,
           1247,
           122542,
           "Estonia"
          ],
          [
           128198,
           3455,
           89232,
           "Algeria"
          ],
          [
           124410,
           783,
           17998,
           "Norway"
          ],
          [
           106946,
           2247,
           102303,
           "Kosovo"
          ],
          [
           103866,
           1788,
           97542,
           "Kyrgyzstan"
          ],
          [
           102948,
           4846,
           97726,
           "China"
          ],
          [
           99580,
           687,
           95250,
           "Uzbekistan"
          ],
          [
           99518,
           1580,
           97010,
           "Montenegro"
          ],
          [
           94430,
           1275,
           91443,
           "Zambia"
          ],
          [
           93775,
           784,
           91853,
           "Ghana"
          ],
          [
           92244,
           948,
           46000,
           "Finland"
          ],
          [
           77982,
           1270,
           35261,
           "Cameroon"
          ],
          [
           73246,
           2237,
           68408,
           "El Salvador"
          ],
          [
           72307,
           360,
           39061,
           "Cyprus"
          ],
          [
           70697,
           835,
           69232,
           "Mozambique"
          ],
          [
           69830,
           814,
           67993,
           "Luxembourg"
          ],
          [
           69130,
           2881,
           57119,
           "Afghanistan"
          ],
          [
           61970,
           32,
           61407,
           "Singapore"
          ],
          [
           61844,
           155,
           36862,
           "Maldives"
          ],
          [
           56621,
           268,
           49320,
           "Mongolia"
          ],
          [
           54268,
           807,
           50053,
           "Namibia"
          ],
          [
           53771,
           831,
           50494,
           "Botswana"
          ],
          [
           48288,
           936,
           24703,
           "Jamaica"
          ],
          [
           47195,
           301,
           46591,
           "Cote d'Ivoire"
          ],
          [
           45231,
           361,
           43401,
           "Uganda"
          ],
          [
           41296,
           1138,
           39932,
           "Senegal"
          ],
          [
           41184,
           827,
           40028,
           "Madagascar"
          ],
          [
           38918,
           1592,
           36563,
           "Zimbabwe"
          ],
          [
           35289,
           2600,
           27949,
           "Sudan"
          ],
          [
           34323,
           1154,
           32598,
           "Malawi"
          ],
          [
           33944,
           749,
           27577,
           "Angola"
          ],
          [
           31386,
           782,
           27654,
           "Congo (Kinshasa)"
          ],
          [
           30526,
           419,
           30041,
           "Malta"
          ],
          [
           30122,
           261,
           28163,
           "Cabo Verde"
          ],
          [
           30083,
           910,
           23575,
           "Australia"
          ],
          [
           28237,
           196,
           20900,
           "Cambodia"
          ],
          [
           26878,
           352,
           25542,
           "Rwanda"
          ],
          [
           24410,
           1758,
           21588,
           "Syria"
          ],
          [
           24365,
           150,
           21791,
           "Gabon"
          ],
          [
           23110,
           161,
           20840,
           "Guinea"
          ],
          [
           22620,
           458,
           12970,
           "Trinidad and Tobago"
          ],
          [
           19407,
           462,
           18403,
           "Mauritania"
          ],
          [
           18587,
           672,
           17855,
           "Eswatini"
          ],
          [
           16724,
           380,
           14376,
           "Guyana"
          ],
          [
           15772,
           162,
           14857,
           "Papua New Guinea"
          ],
          [
           14647,
           768,
           6717,
           "Somalia"
          ],
          [
           14305,
           282,
           11333,
           "Suriname"
          ],
          [
           14262,
           516,
           9559,
           "Mali"
          ],
          [
           14037,
           292,
           12511,
           "Haiti"
          ],
          [
           13693,
           127,
           13416,
           "Andorra"
          ],
          [
           13432,
           125,
           12644,
           "Togo"
          ],
          [
           13424,
           166,
           13248,
           "Burkina Faso"
          ],
          [
           13308,
           90,
           13218,
           "Tajikistan"
          ],
          [
           12791,
           324,
           12378,
           "Belize"
          ],
          [
           11684,
           229,
           10503,
           "Bahamas"
          ],
          [
           11658,
           153,
           8208,
           "Congo (Brazzaville)"
          ],
          [
           11523,
           153,
           11354,
           "Djibouti"
          ],
          [
           11145,
           40,
           9936,
           "Seychelles"
          ],
          [
           10825,
           326,
           6434,
           "Lesotho"
          ],
          [
           10688,
           115,
           10514,
           "South Sudan"
          ],
          [
           8476,
           113,
           8146,
           "Equatorial Guinea"
          ],
          [
           8058,
           101,
           7893,
           "Benin"
          ],
          [
           7324,
           186,
           4225,
           "Nicaragua"
          ],
          [
           7315,
           78,
           1133,
           "Taiwan*"
          ],
          [
           7085,
           98,
           6665,
           "Central African Republic"
          ],
          [
           6723,
           1316,
           3375,
           "Yemen"
          ],
          [
           6622,
           15,
           3915,
           "Timor-Leste"
          ],
          [
           6555,
           29,
           6476,
           "Iceland"
          ],
          [
           6396,
           47,
           2896,
           "Vietnam"
          ],
          [
           5990,
           178,
           5767,
           "Gambia"
          ],
          [
           5406,
           192,
           5071,
           "Niger"
          ],
          [
           5089,
           90,
           4995,
           "San Marino"
          ],
          [
           5035,
           77,
           4772,
           "Saint Lucia"
          ],
          [
           4927,
           173,
           4742,
           "Chad"
          ],
          [
           4669,
           6,
           773,
           "Burundi"
          ],
          [
           4140,
           79,
           3128,
           "Sierra Leone"
          ],
          [
           4022,
           14,
           3812,
           "Eritrea"
          ],
          [
           4009,
           47,
           3922,
           "Barbados"
          ],
          [
           3879,
           146,
           3716,
           "Comoros"
          ],
          [
           3760,
           68,
           3511,
           "Guinea-Bissau"
          ],
          [
           3006,
           58,
           2929,
           "Liechtenstein"
          ],
          [
           2670,
           26,
           2623,
           "New Zealand"
          ],
          [
           2503,
           32,
           2463,
           "Monaco"
          ],
          [
           2344,
           37,
           2288,
           "Sao Tome and Principe"
          ],
          [
           2179,
           86,
           2033,
           "Liberia"
          ],
          [
           2014,
           12,
           1831,
           "Saint Vincent and the Grenadines"
          ],
          [
           1905,
           3,
           1281,
           "Laos"
          ],
          [
           1503,
           1,
           1241,
           "Bhutan"
          ],
          [
           1356,
           17,
           1181,
           "Mauritius"
          ],
          [
           1259,
           42,
           1206,
           "Antigua and Barbuda"
          ],
          [
           712,
           13,
           699,
           "Diamond Princess"
          ],
          [
           509,
           21,
           183,
           "Tanzania"
          ],
          [
           360,
           4,
           161,
           "Fiji"
          ],
          [
           241,
           3,
           228,
           "Brunei"
          ],
          [
           188,
           0,
           182,
           "Dominica"
          ],
          [
           161,
           1,
           160,
           "Grenada"
          ],
          [
           68,
           0,
           45,
           "Saint Kitts and Nevis"
          ],
          [
           27,
           0,
           27,
           "Holy See"
          ],
          [
           20,
           0,
           20,
           "Solomon Islands"
          ],
          [
           9,
           2,
           7,
           "MS Zaandam"
          ],
          [
           4,
           1,
           3,
           "Vanuatu"
          ],
          [
           4,
           0,
           4,
           "Marshall Islands"
          ],
          [
           3,
           0,
           3,
           "Samoa"
          ],
          [
           2,
           0,
           0,
           "Kiribati"
          ],
          [
           1,
           0,
           1,
           "Micronesia"
          ]
         ],
         "geo": "geo",
         "hovertemplate": "<b>%{hovertext}</b><br><br>Confirmed=%{marker.color:,2f}<br>Deaths=%{customdata[1]:,2f}<br>Recovered=%{customdata[2]:,2f}<extra></extra>",
         "hovertext": [
          "US",
          "India",
          "Brazil",
          "France",
          "Turkey",
          "Russia",
          "United Kingdom",
          "Italy",
          "Argentina",
          "Germany",
          "Spain",
          "Colombia",
          "Iran",
          "Poland",
          "Mexico",
          "Ukraine",
          "Peru",
          "Indonesia",
          "Netherlands",
          "Czechia",
          "South Africa",
          "Canada",
          "Chile",
          "Philippines",
          "Iraq",
          "Romania",
          "Sweden",
          "Belgium",
          "Pakistan",
          "Portugal",
          "Israel",
          "Hungary",
          "Bangladesh",
          "Japan",
          "Jordan",
          "Serbia",
          "Switzerland",
          "Austria",
          "United Arab Emirates",
          "Malaysia",
          "Nepal",
          "Lebanon",
          "Morocco",
          "Saudi Arabia",
          "Kazakhstan",
          "Ecuador",
          "Bulgaria",
          "Greece",
          "Belarus",
          "Slovakia",
          "Panama",
          "Bolivia",
          "Croatia",
          "Paraguay",
          "Tunisia",
          "Georgia",
          "Azerbaijan",
          "Costa Rica",
          "West Bank and Gaza",
          "Kuwait",
          "Dominican Republic",
          "Uruguay",
          "Denmark",
          "Lithuania",
          "Ethiopia",
          "Egypt",
          "Moldova",
          "Ireland",
          "Slovenia",
          "Guatemala",
          "Honduras",
          "Bahrain",
          "Venezuela",
          "Armenia",
          "Qatar",
          "Oman",
          "Bosnia and Herzegovina",
          "Libya",
          "Sri Lanka",
          "Kenya",
          "Nigeria",
          "North Macedonia",
          "Thailand",
          "Burma",
          "Korea, South",
          "Cuba",
          "Latvia",
          "Albania",
          "Estonia",
          "Algeria",
          "Norway",
          "Kosovo",
          "Kyrgyzstan",
          "China",
          "Uzbekistan",
          "Montenegro",
          "Zambia",
          "Ghana",
          "Finland",
          "Cameroon",
          "El Salvador",
          "Cyprus",
          "Mozambique",
          "Luxembourg",
          "Afghanistan",
          "Singapore",
          "Maldives",
          "Mongolia",
          "Namibia",
          "Botswana",
          "Jamaica",
          "Cote d'Ivoire",
          "Uganda",
          "Senegal",
          "Madagascar",
          "Zimbabwe",
          "Sudan",
          "Malawi",
          "Angola",
          "Congo (Kinshasa)",
          "Malta",
          "Cabo Verde",
          "Australia",
          "Cambodia",
          "Rwanda",
          "Syria",
          "Gabon",
          "Guinea",
          "Trinidad and Tobago",
          "Mauritania",
          "Eswatini",
          "Guyana",
          "Papua New Guinea",
          "Somalia",
          "Suriname",
          "Mali",
          "Haiti",
          "Andorra",
          "Togo",
          "Burkina Faso",
          "Tajikistan",
          "Belize",
          "Bahamas",
          "Congo (Brazzaville)",
          "Djibouti",
          "Seychelles",
          "Lesotho",
          "South Sudan",
          "Equatorial Guinea",
          "Benin",
          "Nicaragua",
          "Taiwan*",
          "Central African Republic",
          "Yemen",
          "Timor-Leste",
          "Iceland",
          "Vietnam",
          "Gambia",
          "Niger",
          "San Marino",
          "Saint Lucia",
          "Chad",
          "Burundi",
          "Sierra Leone",
          "Eritrea",
          "Barbados",
          "Comoros",
          "Guinea-Bissau",
          "Liechtenstein",
          "New Zealand",
          "Monaco",
          "Sao Tome and Principe",
          "Liberia",
          "Saint Vincent and the Grenadines",
          "Laos",
          "Bhutan",
          "Mauritius",
          "Antigua and Barbuda",
          "Diamond Princess",
          "Tanzania",
          "Fiji",
          "Brunei",
          "Dominica",
          "Grenada",
          "Saint Kitts and Nevis",
          "Holy See",
          "Solomon Islands",
          "MS Zaandam",
          "Vanuatu",
          "Marshall Islands",
          "Samoa",
          "Kiribati",
          "Micronesia"
         ],
         "legendgroup": "",
         "locationmode": "country names",
         "locations": [
          "US",
          "India",
          "Brazil",
          "France",
          "Turkey",
          "Russia",
          "United Kingdom",
          "Italy",
          "Argentina",
          "Germany",
          "Spain",
          "Colombia",
          "Iran",
          "Poland",
          "Mexico",
          "Ukraine",
          "Peru",
          "Indonesia",
          "Netherlands",
          "Czechia",
          "South Africa",
          "Canada",
          "Chile",
          "Philippines",
          "Iraq",
          "Romania",
          "Sweden",
          "Belgium",
          "Pakistan",
          "Portugal",
          "Israel",
          "Hungary",
          "Bangladesh",
          "Japan",
          "Jordan",
          "Serbia",
          "Switzerland",
          "Austria",
          "United Arab Emirates",
          "Malaysia",
          "Nepal",
          "Lebanon",
          "Morocco",
          "Saudi Arabia",
          "Kazakhstan",
          "Ecuador",
          "Bulgaria",
          "Greece",
          "Belarus",
          "Slovakia",
          "Panama",
          "Bolivia",
          "Croatia",
          "Paraguay",
          "Tunisia",
          "Georgia",
          "Azerbaijan",
          "Costa Rica",
          "West Bank and Gaza",
          "Kuwait",
          "Dominican Republic",
          "Uruguay",
          "Denmark",
          "Lithuania",
          "Ethiopia",
          "Egypt",
          "Moldova",
          "Ireland",
          "Slovenia",
          "Guatemala",
          "Honduras",
          "Bahrain",
          "Venezuela",
          "Armenia",
          "Qatar",
          "Oman",
          "Bosnia and Herzegovina",
          "Libya",
          "Sri Lanka",
          "Kenya",
          "Nigeria",
          "North Macedonia",
          "Thailand",
          "Burma",
          "Korea, South",
          "Cuba",
          "Latvia",
          "Albania",
          "Estonia",
          "Algeria",
          "Norway",
          "Kosovo",
          "Kyrgyzstan",
          "China",
          "Uzbekistan",
          "Montenegro",
          "Zambia",
          "Ghana",
          "Finland",
          "Cameroon",
          "El Salvador",
          "Cyprus",
          "Mozambique",
          "Luxembourg",
          "Afghanistan",
          "Singapore",
          "Maldives",
          "Mongolia",
          "Namibia",
          "Botswana",
          "Jamaica",
          "Cote d'Ivoire",
          "Uganda",
          "Senegal",
          "Madagascar",
          "Zimbabwe",
          "Sudan",
          "Malawi",
          "Angola",
          "Congo (Kinshasa)",
          "Malta",
          "Cabo Verde",
          "Australia",
          "Cambodia",
          "Rwanda",
          "Syria",
          "Gabon",
          "Guinea",
          "Trinidad and Tobago",
          "Mauritania",
          "Eswatini",
          "Guyana",
          "Papua New Guinea",
          "Somalia",
          "Suriname",
          "Mali",
          "Haiti",
          "Andorra",
          "Togo",
          "Burkina Faso",
          "Tajikistan",
          "Belize",
          "Bahamas",
          "Congo (Brazzaville)",
          "Djibouti",
          "Seychelles",
          "Lesotho",
          "South Sudan",
          "Equatorial Guinea",
          "Benin",
          "Nicaragua",
          "Taiwan*",
          "Central African Republic",
          "Yemen",
          "Timor-Leste",
          "Iceland",
          "Vietnam",
          "Gambia",
          "Niger",
          "San Marino",
          "Saint Lucia",
          "Chad",
          "Burundi",
          "Sierra Leone",
          "Eritrea",
          "Barbados",
          "Comoros",
          "Guinea-Bissau",
          "Liechtenstein",
          "New Zealand",
          "Monaco",
          "Sao Tome and Principe",
          "Liberia",
          "Saint Vincent and the Grenadines",
          "Laos",
          "Bhutan",
          "Mauritius",
          "Antigua and Barbuda",
          "Diamond Princess",
          "Tanzania",
          "Fiji",
          "Brunei",
          "Dominica",
          "Grenada",
          "Saint Kitts and Nevis",
          "Holy See",
          "Solomon Islands",
          "MS Zaandam",
          "Vanuatu",
          "Marshall Islands",
          "Samoa",
          "Kiribati",
          "Micronesia"
         ],
         "marker": {
          "color": [
           33239700,
           27555457,
           16391930,
           5708350,
           5228322,
           4986458,
           4493582,
           4209707,
           3702422,
           3680159,
           3668658,
           3342567,
           2886111,
           2870595,
           2408778,
           2254674,
           1942054,
           1803361,
           1668581,
           1660481,
           1654551,
           1382107,
           1361381,
           1209154,
           1190351,
           1077161,
           1068473,
           1057903,
           916239,
           847604,
           839433,
           803567,
           796343,
           738935,
           734659,
           711772,
           693023,
           643709,
           565451,
           549514,
           549111,
           539888,
           518458,
           447178,
           438619,
           423165,
           418106,
           398898,
           391637,
           389440,
           376854,
           364570,
           355617,
           348184,
           341952,
           341894,
           333559,
           314102,
           307569,
           305583,
           289288,
           282198,
           279139,
           273346,
           270944,
           259540,
           255060,
           254870,
           253140,
           252929,
           236451,
           232425,
           230147,
           222513,
           216885,
           213784,
           203839,
           184815,
           177711,
           170041,
           166254,
           155217,
           147039,
           143486,
           139431,
           138899,
           132612,
           132285,
           129297,
           128198,
           124410,
           106946,
           103866,
           102948,
           99580,
           99518,
           94430,
           93775,
           92244,
           77982,
           73246,
           72307,
           70697,
           69830,
           69130,
           61970,
           61844,
           56621,
           54268,
           53771,
           48288,
           47195,
           45231,
           41296,
           41184,
           38918,
           35289,
           34323,
           33944,
           31386,
           30526,
           30122,
           30083,
           28237,
           26878,
           24410,
           24365,
           23110,
           22620,
           19407,
           18587,
           16724,
           15772,
           14647,
           14305,
           14262,
           14037,
           13693,
           13432,
           13424,
           13308,
           12791,
           11684,
           11658,
           11523,
           11145,
           10825,
           10688,
           8476,
           8058,
           7324,
           7315,
           7085,
           6723,
           6622,
           6555,
           6396,
           5990,
           5406,
           5089,
           5035,
           4927,
           4669,
           4140,
           4022,
           4009,
           3879,
           3760,
           3006,
           2670,
           2503,
           2344,
           2179,
           2014,
           1905,
           1503,
           1356,
           1259,
           712,
           509,
           360,
           241,
           188,
           161,
           68,
           27,
           20,
           9,
           4,
           4,
           3,
           2,
           1
          ],
          "coloraxis": "coloraxis",
          "size": [
           33239700,
           27555457,
           16391930,
           5708350,
           5228322,
           4986458,
           4493582,
           4209707,
           3702422,
           3680159,
           3668658,
           3342567,
           2886111,
           2870595,
           2408778,
           2254674,
           1942054,
           1803361,
           1668581,
           1660481,
           1654551,
           1382107,
           1361381,
           1209154,
           1190351,
           1077161,
           1068473,
           1057903,
           916239,
           847604,
           839433,
           803567,
           796343,
           738935,
           734659,
           711772,
           693023,
           643709,
           565451,
           549514,
           549111,
           539888,
           518458,
           447178,
           438619,
           423165,
           418106,
           398898,
           391637,
           389440,
           376854,
           364570,
           355617,
           348184,
           341952,
           341894,
           333559,
           314102,
           307569,
           305583,
           289288,
           282198,
           279139,
           273346,
           270944,
           259540,
           255060,
           254870,
           253140,
           252929,
           236451,
           232425,
           230147,
           222513,
           216885,
           213784,
           203839,
           184815,
           177711,
           170041,
           166254,
           155217,
           147039,
           143486,
           139431,
           138899,
           132612,
           132285,
           129297,
           128198,
           124410,
           106946,
           103866,
           102948,
           99580,
           99518,
           94430,
           93775,
           92244,
           77982,
           73246,
           72307,
           70697,
           69830,
           69130,
           61970,
           61844,
           56621,
           54268,
           53771,
           48288,
           47195,
           45231,
           41296,
           41184,
           38918,
           35289,
           34323,
           33944,
           31386,
           30526,
           30122,
           30083,
           28237,
           26878,
           24410,
           24365,
           23110,
           22620,
           19407,
           18587,
           16724,
           15772,
           14647,
           14305,
           14262,
           14037,
           13693,
           13432,
           13424,
           13308,
           12791,
           11684,
           11658,
           11523,
           11145,
           10825,
           10688,
           8476,
           8058,
           7324,
           7315,
           7085,
           6723,
           6622,
           6555,
           6396,
           5990,
           5406,
           5089,
           5035,
           4927,
           4669,
           4140,
           4022,
           4009,
           3879,
           3760,
           3006,
           2670,
           2503,
           2344,
           2179,
           2014,
           1905,
           1503,
           1356,
           1259,
           712,
           509,
           360,
           241,
           188,
           161,
           68,
           27,
           20,
           9,
           4,
           4,
           3,
           2,
           1
          ],
          "sizemode": "area",
          "sizeref": 20774.8125,
          "symbol": "circle"
         },
         "mode": "markers",
         "name": "",
         "showlegend": false,
         "type": "scattergeo"
        }
       ],
       "layout": {
        "coloraxis": {
         "colorbar": {
          "title": {
           "text": "Confirmed"
          }
         },
         "colorscale": [
          [
           0,
           "#0d0887"
          ],
          [
           0.1111111111111111,
           "#46039f"
          ],
          [
           0.2222222222222222,
           "#7201a8"
          ],
          [
           0.3333333333333333,
           "#9c179e"
          ],
          [
           0.4444444444444444,
           "#bd3786"
          ],
          [
           0.5555555555555556,
           "#d8576b"
          ],
          [
           0.6666666666666666,
           "#ed7953"
          ],
          [
           0.7777777777777778,
           "#fb9f3a"
          ],
          [
           0.8888888888888888,
           "#fdca26"
          ],
          [
           1,
           "#f0f921"
          ]
         ]
        },
        "geo": {
         "center": {},
         "domain": {
          "x": [
           0,
           1
          ],
          "y": [
           0,
           1
          ]
         }
        },
        "height": 600,
        "legend": {
         "itemsizing": "constant",
         "tracegroupgap": 0
        },
        "margin": {
         "t": 60
        },
        "template": {
         "data": {
          "bar": [
           {
            "error_x": {
             "color": "#f2f5fa"
            },
            "error_y": {
             "color": "#f2f5fa"
            },
            "marker": {
             "line": {
              "color": "rgb(17,17,17)",
              "width": 0.5
             }
            },
            "type": "bar"
           }
          ],
          "barpolar": [
           {
            "marker": {
             "line": {
              "color": "rgb(17,17,17)",
              "width": 0.5
             }
            },
            "type": "barpolar"
           }
          ],
          "carpet": [
           {
            "aaxis": {
             "endlinecolor": "#A2B1C6",
             "gridcolor": "#506784",
             "linecolor": "#506784",
             "minorgridcolor": "#506784",
             "startlinecolor": "#A2B1C6"
            },
            "baxis": {
             "endlinecolor": "#A2B1C6",
             "gridcolor": "#506784",
             "linecolor": "#506784",
             "minorgridcolor": "#506784",
             "startlinecolor": "#A2B1C6"
            },
            "type": "carpet"
           }
          ],
          "choropleth": [
           {
            "colorbar": {
             "outlinewidth": 0,
             "ticks": ""
            },
            "type": "choropleth"
           }
          ],
          "contour": [
           {
            "colorbar": {
             "outlinewidth": 0,
             "ticks": ""
            },
            "colorscale": [
             [
              0,
              "#0d0887"
             ],
             [
              0.1111111111111111,
              "#46039f"
             ],
             [
              0.2222222222222222,
              "#7201a8"
             ],
             [
              0.3333333333333333,
              "#9c179e"
             ],
             [
              0.4444444444444444,
              "#bd3786"
             ],
             [
              0.5555555555555556,
              "#d8576b"
             ],
             [
              0.6666666666666666,
              "#ed7953"
             ],
             [
              0.7777777777777778,
              "#fb9f3a"
             ],
             [
              0.8888888888888888,
              "#fdca26"
             ],
             [
              1,
              "#f0f921"
             ]
            ],
            "type": "contour"
           }
          ],
          "contourcarpet": [
           {
            "colorbar": {
             "outlinewidth": 0,
             "ticks": ""
            },
            "type": "contourcarpet"
           }
          ],
          "heatmap": [
           {
            "colorbar": {
             "outlinewidth": 0,
             "ticks": ""
            },
            "colorscale": [
             [
              0,
              "#0d0887"
             ],
             [
              0.1111111111111111,
              "#46039f"
             ],
             [
              0.2222222222222222,
              "#7201a8"
             ],
             [
              0.3333333333333333,
              "#9c179e"
             ],
             [
              0.4444444444444444,
              "#bd3786"
             ],
             [
              0.5555555555555556,
              "#d8576b"
             ],
             [
              0.6666666666666666,
              "#ed7953"
             ],
             [
              0.7777777777777778,
              "#fb9f3a"
             ],
             [
              0.8888888888888888,
              "#fdca26"
             ],
             [
              1,
              "#f0f921"
             ]
            ],
            "type": "heatmap"
           }
          ],
          "heatmapgl": [
           {
            "colorbar": {
             "outlinewidth": 0,
             "ticks": ""
            },
            "colorscale": [
             [
              0,
              "#0d0887"
             ],
             [
              0.1111111111111111,
              "#46039f"
             ],
             [
              0.2222222222222222,
              "#7201a8"
             ],
             [
              0.3333333333333333,
              "#9c179e"
             ],
             [
              0.4444444444444444,
              "#bd3786"
             ],
             [
              0.5555555555555556,
              "#d8576b"
             ],
             [
              0.6666666666666666,
              "#ed7953"
             ],
             [
              0.7777777777777778,
              "#fb9f3a"
             ],
             [
              0.8888888888888888,
              "#fdca26"
             ],
             [
              1,
              "#f0f921"
             ]
            ],
            "type": "heatmapgl"
           }
          ],
          "histogram": [
           {
            "marker": {
             "colorbar": {
              "outlinewidth": 0,
              "ticks": ""
             }
            },
            "type": "histogram"
           }
          ],
          "histogram2d": [
           {
            "colorbar": {
             "outlinewidth": 0,
             "ticks": ""
            },
            "colorscale": [
             [
              0,
              "#0d0887"
             ],
             [
              0.1111111111111111,
              "#46039f"
             ],
             [
              0.2222222222222222,
              "#7201a8"
             ],
             [
              0.3333333333333333,
              "#9c179e"
             ],
             [
              0.4444444444444444,
              "#bd3786"
             ],
             [
              0.5555555555555556,
              "#d8576b"
             ],
             [
              0.6666666666666666,
              "#ed7953"
             ],
             [
              0.7777777777777778,
              "#fb9f3a"
             ],
             [
              0.8888888888888888,
              "#fdca26"
             ],
             [
              1,
              "#f0f921"
             ]
            ],
            "type": "histogram2d"
           }
          ],
          "histogram2dcontour": [
           {
            "colorbar": {
             "outlinewidth": 0,
             "ticks": ""
            },
            "colorscale": [
             [
              0,
              "#0d0887"
             ],
             [
              0.1111111111111111,
              "#46039f"
             ],
             [
              0.2222222222222222,
              "#7201a8"
             ],
             [
              0.3333333333333333,
              "#9c179e"
             ],
             [
              0.4444444444444444,
              "#bd3786"
             ],
             [
              0.5555555555555556,
              "#d8576b"
             ],
             [
              0.6666666666666666,
              "#ed7953"
             ],
             [
              0.7777777777777778,
              "#fb9f3a"
             ],
             [
              0.8888888888888888,
              "#fdca26"
             ],
             [
              1,
              "#f0f921"
             ]
            ],
            "type": "histogram2dcontour"
           }
          ],
          "mesh3d": [
           {
            "colorbar": {
             "outlinewidth": 0,
             "ticks": ""
            },
            "type": "mesh3d"
           }
          ],
          "parcoords": [
           {
            "line": {
             "colorbar": {
              "outlinewidth": 0,
              "ticks": ""
             }
            },
            "type": "parcoords"
           }
          ],
          "pie": [
           {
            "automargin": true,
            "type": "pie"
           }
          ],
          "scatter": [
           {
            "marker": {
             "line": {
              "color": "#283442"
             }
            },
            "type": "scatter"
           }
          ],
          "scatter3d": [
           {
            "line": {
             "colorbar": {
              "outlinewidth": 0,
              "ticks": ""
             }
            },
            "marker": {
             "colorbar": {
              "outlinewidth": 0,
              "ticks": ""
             }
            },
            "type": "scatter3d"
           }
          ],
          "scattercarpet": [
           {
            "marker": {
             "colorbar": {
              "outlinewidth": 0,
              "ticks": ""
             }
            },
            "type": "scattercarpet"
           }
          ],
          "scattergeo": [
           {
            "marker": {
             "colorbar": {
              "outlinewidth": 0,
              "ticks": ""
             }
            },
            "type": "scattergeo"
           }
          ],
          "scattergl": [
           {
            "marker": {
             "line": {
              "color": "#283442"
             }
            },
            "type": "scattergl"
           }
          ],
          "scattermapbox": [
           {
            "marker": {
             "colorbar": {
              "outlinewidth": 0,
              "ticks": ""
             }
            },
            "type": "scattermapbox"
           }
          ],
          "scatterpolar": [
           {
            "marker": {
             "colorbar": {
              "outlinewidth": 0,
              "ticks": ""
             }
            },
            "type": "scatterpolar"
           }
          ],
          "scatterpolargl": [
           {
            "marker": {
             "colorbar": {
              "outlinewidth": 0,
              "ticks": ""
             }
            },
            "type": "scatterpolargl"
           }
          ],
          "scatterternary": [
           {
            "marker": {
             "colorbar": {
              "outlinewidth": 0,
              "ticks": ""
             }
            },
            "type": "scatterternary"
           }
          ],
          "surface": [
           {
            "colorbar": {
             "outlinewidth": 0,
             "ticks": ""
            },
            "colorscale": [
             [
              0,
              "#0d0887"
             ],
             [
              0.1111111111111111,
              "#46039f"
             ],
             [
              0.2222222222222222,
              "#7201a8"
             ],
             [
              0.3333333333333333,
              "#9c179e"
             ],
             [
              0.4444444444444444,
              "#bd3786"
             ],
             [
              0.5555555555555556,
              "#d8576b"
             ],
             [
              0.6666666666666666,
              "#ed7953"
             ],
             [
              0.7777777777777778,
              "#fb9f3a"
             ],
             [
              0.8888888888888888,
              "#fdca26"
             ],
             [
              1,
              "#f0f921"
             ]
            ],
            "type": "surface"
           }
          ],
          "table": [
           {
            "cells": {
             "fill": {
              "color": "#506784"
             },
             "line": {
              "color": "rgb(17,17,17)"
             }
            },
            "header": {
             "fill": {
              "color": "#2a3f5f"
             },
             "line": {
              "color": "rgb(17,17,17)"
             }
            },
            "type": "table"
           }
          ]
         },
         "layout": {
          "annotationdefaults": {
           "arrowcolor": "#f2f5fa",
           "arrowhead": 0,
           "arrowwidth": 1
          },
          "autotypenumbers": "strict",
          "coloraxis": {
           "colorbar": {
            "outlinewidth": 0,
            "ticks": ""
           }
          },
          "colorscale": {
           "diverging": [
            [
             0,
             "#8e0152"
            ],
            [
             0.1,
             "#c51b7d"
            ],
            [
             0.2,
             "#de77ae"
            ],
            [
             0.3,
             "#f1b6da"
            ],
            [
             0.4,
             "#fde0ef"
            ],
            [
             0.5,
             "#f7f7f7"
            ],
            [
             0.6,
             "#e6f5d0"
            ],
            [
             0.7,
             "#b8e186"
            ],
            [
             0.8,
             "#7fbc41"
            ],
            [
             0.9,
             "#4d9221"
            ],
            [
             1,
             "#276419"
            ]
           ],
           "sequential": [
            [
             0,
             "#0d0887"
            ],
            [
             0.1111111111111111,
             "#46039f"
            ],
            [
             0.2222222222222222,
             "#7201a8"
            ],
            [
             0.3333333333333333,
             "#9c179e"
            ],
            [
             0.4444444444444444,
             "#bd3786"
            ],
            [
             0.5555555555555556,
             "#d8576b"
            ],
            [
             0.6666666666666666,
             "#ed7953"
            ],
            [
             0.7777777777777778,
             "#fb9f3a"
            ],
            [
             0.8888888888888888,
             "#fdca26"
            ],
            [
             1,
             "#f0f921"
            ]
           ],
           "sequentialminus": [
            [
             0,
             "#0d0887"
            ],
            [
             0.1111111111111111,
             "#46039f"
            ],
            [
             0.2222222222222222,
             "#7201a8"
            ],
            [
             0.3333333333333333,
             "#9c179e"
            ],
            [
             0.4444444444444444,
             "#bd3786"
            ],
            [
             0.5555555555555556,
             "#d8576b"
            ],
            [
             0.6666666666666666,
             "#ed7953"
            ],
            [
             0.7777777777777778,
             "#fb9f3a"
            ],
            [
             0.8888888888888888,
             "#fdca26"
            ],
            [
             1,
             "#f0f921"
            ]
           ]
          },
          "colorway": [
           "#636efa",
           "#EF553B",
           "#00cc96",
           "#ab63fa",
           "#FFA15A",
           "#19d3f3",
           "#FF6692",
           "#B6E880",
           "#FF97FF",
           "#FECB52"
          ],
          "font": {
           "color": "#f2f5fa"
          },
          "geo": {
           "bgcolor": "rgb(17,17,17)",
           "lakecolor": "rgb(17,17,17)",
           "landcolor": "rgb(17,17,17)",
           "showlakes": true,
           "showland": true,
           "subunitcolor": "#506784"
          },
          "hoverlabel": {
           "align": "left"
          },
          "hovermode": "closest",
          "mapbox": {
           "style": "dark"
          },
          "paper_bgcolor": "rgb(17,17,17)",
          "plot_bgcolor": "rgb(17,17,17)",
          "polar": {
           "angularaxis": {
            "gridcolor": "#506784",
            "linecolor": "#506784",
            "ticks": ""
           },
           "bgcolor": "rgb(17,17,17)",
           "radialaxis": {
            "gridcolor": "#506784",
            "linecolor": "#506784",
            "ticks": ""
           }
          },
          "scene": {
           "xaxis": {
            "backgroundcolor": "rgb(17,17,17)",
            "gridcolor": "#506784",
            "gridwidth": 2,
            "linecolor": "#506784",
            "showbackground": true,
            "ticks": "",
            "zerolinecolor": "#C8D4E3"
           },
           "yaxis": {
            "backgroundcolor": "rgb(17,17,17)",
            "gridcolor": "#506784",
            "gridwidth": 2,
            "linecolor": "#506784",
            "showbackground": true,
            "ticks": "",
            "zerolinecolor": "#C8D4E3"
           },
           "zaxis": {
            "backgroundcolor": "rgb(17,17,17)",
            "gridcolor": "#506784",
            "gridwidth": 2,
            "linecolor": "#506784",
            "showbackground": true,
            "ticks": "",
            "zerolinecolor": "#C8D4E3"
           }
          },
          "shapedefaults": {
           "line": {
            "color": "#f2f5fa"
           }
          },
          "sliderdefaults": {
           "bgcolor": "#C8D4E3",
           "bordercolor": "rgb(17,17,17)",
           "borderwidth": 1,
           "tickwidth": 0
          },
          "ternary": {
           "aaxis": {
            "gridcolor": "#506784",
            "linecolor": "#506784",
            "ticks": ""
           },
           "baxis": {
            "gridcolor": "#506784",
            "linecolor": "#506784",
            "ticks": ""
           },
           "bgcolor": "rgb(17,17,17)",
           "caxis": {
            "gridcolor": "#506784",
            "linecolor": "#506784",
            "ticks": ""
           }
          },
          "title": {
           "x": 0.05
          },
          "updatemenudefaults": {
           "bgcolor": "#506784",
           "borderwidth": 0
          },
          "xaxis": {
           "automargin": true,
           "gridcolor": "#283442",
           "linecolor": "#506784",
           "ticks": "",
           "title": {
            "standoff": 15
           },
           "zerolinecolor": "#283442",
           "zerolinewidth": 2
          },
          "yaxis": {
           "automargin": true,
           "gridcolor": "#283442",
           "linecolor": "#506784",
           "ticks": "",
           "title": {
            "standoff": 15
           },
           "zerolinecolor": "#283442",
           "zerolinewidth": 2
          }
         }
        },
        "width": 1200
       }
      },
      "text/html": [
       "<div>                            <div id=\"bcfc4d01-9323-4e36-8704-929bce1ee5a7\" class=\"plotly-graph-div\" style=\"height:600px; width:1200px;\"></div>            <script type=\"text/javascript\">                require([\"plotly\"], function(Plotly) {                    window.PLOTLYENV=window.PLOTLYENV || {};                                    if (document.getElementById(\"bcfc4d01-9323-4e36-8704-929bce1ee5a7\")) {                    Plotly.newPlot(                        \"bcfc4d01-9323-4e36-8704-929bce1ee5a7\",                        [{\"customdata\": [[33239700, 593955, 0.0, \"US\"], [27555457, 318895, 24893410.0, \"India\"], [16391930, 459045, 14492701.0, \"Brazil\"], [5708350, 109452, 390196.0, \"France\"], [5228322, 47134, 5083099.0, \"Turkey\"], [4986458, 118386, 4607276.0, \"Russia\"], [4493582, 128030, 15480.0, \"United Kingdom\"], [4209707, 125919, 3837518.0, \"Italy\"], [3702422, 76693, 3252843.0, \"Argentina\"], [3680159, 88360, 3472650.0, \"Germany\"], [3668658, 79905, 150376.0, \"Spain\"], [3342567, 87207, 3121888.0, \"Colombia\"], [2886111, 79568, 2410252.0, \"Iran\"], [2870595, 73557, 2634711.0, \"Poland\"], [2408778, 223072, 1923744.0, \"Mexico\"], [2254674, 52252, 2074174.0, \"Ukraine\"], [1942054, 68816, 1892794.0, \"Peru\"], [1803361, 50100, 1654557.0, \"Indonesia\"], [1668581, 17881, 26780.0, \"Netherlands\"], [1660481, 30088, 1615008.0, \"Czechia\"], [1654551, 56293, 1551520.0, \"South Africa\"], [1382107, 25424, 1318719.0, \"Canada\"], [1361381, 28928, 1287804.0, \"Chile\"], [1209154, 20566, 1134818.0, \"Philippines\"], [1190351, 16311, 1101676.0, \"Iraq\"], [1077161, 30174, 1037729.0, \"Romania\"], [1068473, 14451, 0.0, \"Sweden\"], [1057903, 24910, 0.0, \"Belgium\"], [916239, 20680, 836702.0, \"Pakistan\"], [847604, 17023, 808047.0, \"Portugal\"], [839433, 6407, 832525.0, \"Israel\"], [803567, 29682, 689166.0, \"Hungary\"], [796343, 12511, 736221.0, \"Bangladesh\"], [738935, 12786, 659576.0, \"Japan\"], [734659, 9436, 713633.0, \"Jordan\"], [711772, 6834, 0.0, \"Serbia\"], [693023, 10801, 317600.0, \"Switzerland\"], [643709, 10588, 626815.0, \"Austria\"], [565451, 1668, 545229.0, \"United Arab Emirates\"], [549514, 2552, 474139.0, \"Malaysia\"], [549111, 7047, 428670.0, \"Nepal\"], [539888, 7711, 516530.0, \"Lebanon\"], [518458, 9135, 506443.0, \"Morocco\"], [447178, 7320, 429663.0, \"Saudi Arabia\"], [438619, 3435, 402182.0, \"Kazakhstan\"], [423165, 20408, 366425.0, \"Ecuador\"], [418106, 17652, 380254.0, \"Bulgaria\"], [398898, 11995, 93764.0, \"Greece\"], [391637, 2821, 382167.0, \"Belarus\"], [389440, 12333, 255300.0, \"Slovakia\"], [376854, 6365, 364297.0, \"Panama\"], [364570, 14377, 289809.0, \"Bolivia\"], [355617, 7992, 344899.0, \"Croatia\"], [348184, 8892, 286005.0, \"Paraguay\"], [341952, 12513, 299771.0, \"Tunisia\"], [341894, 4727, 324426.0, \"Georgia\"], [333559, 4896, 323198.0, \"Azerbaijan\"], [314102, 3962, 242019.0, \"Costa Rica\"], [307569, 3489, 300125.0, \"West Bank and Gaza\"], [305583, 1760, 290377.0, \"Kuwait\"], [289288, 3623, 238615.0, \"Dominican Republic\"], [282198, 4118, 242661.0, \"Uruguay\"], [279139, 2513, 263450.0, \"Denmark\"], [273346, 4235, 252582.0, \"Lithuania\"], [270944, 4139, 235850.0, \"Ethiopia\"], [259540, 14950, 190254.0, \"Egypt\"], [255060, 6097, 247240.0, \"Moldova\"], [254870, 4941, 23364.0, \"Ireland\"], [253140, 4370, 244153.0, \"Slovenia\"], [252929, 8094, 231594.0, \"Guatemala\"], [236451, 6284, 84223.0, \"Honduras\"], [232425, 923, 203429.0, \"Bahrain\"], [230147, 2595, 212199.0, \"Venezuela\"], [222513, 4423, 212566.0, \"Armenia\"], [216885, 552, 212379.0, \"Qatar\"], [213784, 2303, 197080.0, \"Oman\"], [203839, 9211, 174236.0, \"Bosnia and Herzegovina\"], [184815, 3116, 171279.0, \"Libya\"], [177711, 1363, 146362.0, \"Sri Lanka\"], [170041, 3124, 116018.0, \"Kenya\"], [166254, 2071, 156546.0, \"Nigeria\"], [155217, 5387, 147381.0, \"North Macedonia\"], [147039, 954, 26873.0, \"Thailand\"], [143486, 3216, 132279.0, \"Burma\"], [139431, 1951, 129739.0, \"Korea, South\"], [138899, 933, 131461.0, \"Cuba\"], [132612, 2359, 124147.0, \"Latvia\"], [132285, 2448, 129097.0, \"Albania\"], [129297, 1247, 122542.0, \"Estonia\"], [128198, 3455, 89232.0, \"Algeria\"], [124410, 783, 17998.0, \"Norway\"], [106946, 2247, 102303.0, \"Kosovo\"], [103866, 1788, 97542.0, \"Kyrgyzstan\"], [102948, 4846, 97726.0, \"China\"], [99580, 687, 95250.0, \"Uzbekistan\"], [99518, 1580, 97010.0, \"Montenegro\"], [94430, 1275, 91443.0, \"Zambia\"], [93775, 784, 91853.0, \"Ghana\"], [92244, 948, 46000.0, \"Finland\"], [77982, 1270, 35261.0, \"Cameroon\"], [73246, 2237, 68408.0, \"El Salvador\"], [72307, 360, 39061.0, \"Cyprus\"], [70697, 835, 69232.0, \"Mozambique\"], [69830, 814, 67993.0, \"Luxembourg\"], [69130, 2881, 57119.0, \"Afghanistan\"], [61970, 32, 61407.0, \"Singapore\"], [61844, 155, 36862.0, \"Maldives\"], [56621, 268, 49320.0, \"Mongolia\"], [54268, 807, 50053.0, \"Namibia\"], [53771, 831, 50494.0, \"Botswana\"], [48288, 936, 24703.0, \"Jamaica\"], [47195, 301, 46591.0, \"Cote d'Ivoire\"], [45231, 361, 43401.0, \"Uganda\"], [41296, 1138, 39932.0, \"Senegal\"], [41184, 827, 40028.0, \"Madagascar\"], [38918, 1592, 36563.0, \"Zimbabwe\"], [35289, 2600, 27949.0, \"Sudan\"], [34323, 1154, 32598.0, \"Malawi\"], [33944, 749, 27577.0, \"Angola\"], [31386, 782, 27654.0, \"Congo (Kinshasa)\"], [30526, 419, 30041.0, \"Malta\"], [30122, 261, 28163.0, \"Cabo Verde\"], [30083, 910, 23575.0, \"Australia\"], [28237, 196, 20900.0, \"Cambodia\"], [26878, 352, 25542.0, \"Rwanda\"], [24410, 1758, 21588.0, \"Syria\"], [24365, 150, 21791.0, \"Gabon\"], [23110, 161, 20840.0, \"Guinea\"], [22620, 458, 12970.0, \"Trinidad and Tobago\"], [19407, 462, 18403.0, \"Mauritania\"], [18587, 672, 17855.0, \"Eswatini\"], [16724, 380, 14376.0, \"Guyana\"], [15772, 162, 14857.0, \"Papua New Guinea\"], [14647, 768, 6717.0, \"Somalia\"], [14305, 282, 11333.0, \"Suriname\"], [14262, 516, 9559.0, \"Mali\"], [14037, 292, 12511.0, \"Haiti\"], [13693, 127, 13416.0, \"Andorra\"], [13432, 125, 12644.0, \"Togo\"], [13424, 166, 13248.0, \"Burkina Faso\"], [13308, 90, 13218.0, \"Tajikistan\"], [12791, 324, 12378.0, \"Belize\"], [11684, 229, 10503.0, \"Bahamas\"], [11658, 153, 8208.0, \"Congo (Brazzaville)\"], [11523, 153, 11354.0, \"Djibouti\"], [11145, 40, 9936.0, \"Seychelles\"], [10825, 326, 6434.0, \"Lesotho\"], [10688, 115, 10514.0, \"South Sudan\"], [8476, 113, 8146.0, \"Equatorial Guinea\"], [8058, 101, 7893.0, \"Benin\"], [7324, 186, 4225.0, \"Nicaragua\"], [7315, 78, 1133.0, \"Taiwan*\"], [7085, 98, 6665.0, \"Central African Republic\"], [6723, 1316, 3375.0, \"Yemen\"], [6622, 15, 3915.0, \"Timor-Leste\"], [6555, 29, 6476.0, \"Iceland\"], [6396, 47, 2896.0, \"Vietnam\"], [5990, 178, 5767.0, \"Gambia\"], [5406, 192, 5071.0, \"Niger\"], [5089, 90, 4995.0, \"San Marino\"], [5035, 77, 4772.0, \"Saint Lucia\"], [4927, 173, 4742.0, \"Chad\"], [4669, 6, 773.0, \"Burundi\"], [4140, 79, 3128.0, \"Sierra Leone\"], [4022, 14, 3812.0, \"Eritrea\"], [4009, 47, 3922.0, \"Barbados\"], [3879, 146, 3716.0, \"Comoros\"], [3760, 68, 3511.0, \"Guinea-Bissau\"], [3006, 58, 2929.0, \"Liechtenstein\"], [2670, 26, 2623.0, \"New Zealand\"], [2503, 32, 2463.0, \"Monaco\"], [2344, 37, 2288.0, \"Sao Tome and Principe\"], [2179, 86, 2033.0, \"Liberia\"], [2014, 12, 1831.0, \"Saint Vincent and the Grenadines\"], [1905, 3, 1281.0, \"Laos\"], [1503, 1, 1241.0, \"Bhutan\"], [1356, 17, 1181.0, \"Mauritius\"], [1259, 42, 1206.0, \"Antigua and Barbuda\"], [712, 13, 699.0, \"Diamond Princess\"], [509, 21, 183.0, \"Tanzania\"], [360, 4, 161.0, \"Fiji\"], [241, 3, 228.0, \"Brunei\"], [188, 0, 182.0, \"Dominica\"], [161, 1, 160.0, \"Grenada\"], [68, 0, 45.0, \"Saint Kitts and Nevis\"], [27, 0, 27.0, \"Holy See\"], [20, 0, 20.0, \"Solomon Islands\"], [9, 2, 7.0, \"MS Zaandam\"], [4, 1, 3.0, \"Vanuatu\"], [4, 0, 4.0, \"Marshall Islands\"], [3, 0, 3.0, \"Samoa\"], [2, 0, 0.0, \"Kiribati\"], [1, 0, 1.0, \"Micronesia\"]], \"geo\": \"geo\", \"hovertemplate\": \"<b>%{hovertext}</b><br><br>Confirmed=%{marker.color:,2f}<br>Deaths=%{customdata[1]:,2f}<br>Recovered=%{customdata[2]:,2f}<extra></extra>\", \"hovertext\": [\"US\", \"India\", \"Brazil\", \"France\", \"Turkey\", \"Russia\", \"United Kingdom\", \"Italy\", \"Argentina\", \"Germany\", \"Spain\", \"Colombia\", \"Iran\", \"Poland\", \"Mexico\", \"Ukraine\", \"Peru\", \"Indonesia\", \"Netherlands\", \"Czechia\", \"South Africa\", \"Canada\", \"Chile\", \"Philippines\", \"Iraq\", \"Romania\", \"Sweden\", \"Belgium\", \"Pakistan\", \"Portugal\", \"Israel\", \"Hungary\", \"Bangladesh\", \"Japan\", \"Jordan\", \"Serbia\", \"Switzerland\", \"Austria\", \"United Arab Emirates\", \"Malaysia\", \"Nepal\", \"Lebanon\", \"Morocco\", \"Saudi Arabia\", \"Kazakhstan\", \"Ecuador\", \"Bulgaria\", \"Greece\", \"Belarus\", \"Slovakia\", \"Panama\", \"Bolivia\", \"Croatia\", \"Paraguay\", \"Tunisia\", \"Georgia\", \"Azerbaijan\", \"Costa Rica\", \"West Bank and Gaza\", \"Kuwait\", \"Dominican Republic\", \"Uruguay\", \"Denmark\", \"Lithuania\", \"Ethiopia\", \"Egypt\", \"Moldova\", \"Ireland\", \"Slovenia\", \"Guatemala\", \"Honduras\", \"Bahrain\", \"Venezuela\", \"Armenia\", \"Qatar\", \"Oman\", \"Bosnia and Herzegovina\", \"Libya\", \"Sri Lanka\", \"Kenya\", \"Nigeria\", \"North Macedonia\", \"Thailand\", \"Burma\", \"Korea, South\", \"Cuba\", \"Latvia\", \"Albania\", \"Estonia\", \"Algeria\", \"Norway\", \"Kosovo\", \"Kyrgyzstan\", \"China\", \"Uzbekistan\", \"Montenegro\", \"Zambia\", \"Ghana\", \"Finland\", \"Cameroon\", \"El Salvador\", \"Cyprus\", \"Mozambique\", \"Luxembourg\", \"Afghanistan\", \"Singapore\", \"Maldives\", \"Mongolia\", \"Namibia\", \"Botswana\", \"Jamaica\", \"Cote d'Ivoire\", \"Uganda\", \"Senegal\", \"Madagascar\", \"Zimbabwe\", \"Sudan\", \"Malawi\", \"Angola\", \"Congo (Kinshasa)\", \"Malta\", \"Cabo Verde\", \"Australia\", \"Cambodia\", \"Rwanda\", \"Syria\", \"Gabon\", \"Guinea\", \"Trinidad and Tobago\", \"Mauritania\", \"Eswatini\", \"Guyana\", \"Papua New Guinea\", \"Somalia\", \"Suriname\", \"Mali\", \"Haiti\", \"Andorra\", \"Togo\", \"Burkina Faso\", \"Tajikistan\", \"Belize\", \"Bahamas\", \"Congo (Brazzaville)\", \"Djibouti\", \"Seychelles\", \"Lesotho\", \"South Sudan\", \"Equatorial Guinea\", \"Benin\", \"Nicaragua\", \"Taiwan*\", \"Central African Republic\", \"Yemen\", \"Timor-Leste\", \"Iceland\", \"Vietnam\", \"Gambia\", \"Niger\", \"San Marino\", \"Saint Lucia\", \"Chad\", \"Burundi\", \"Sierra Leone\", \"Eritrea\", \"Barbados\", \"Comoros\", \"Guinea-Bissau\", \"Liechtenstein\", \"New Zealand\", \"Monaco\", \"Sao Tome and Principe\", \"Liberia\", \"Saint Vincent and the Grenadines\", \"Laos\", \"Bhutan\", \"Mauritius\", \"Antigua and Barbuda\", \"Diamond Princess\", \"Tanzania\", \"Fiji\", \"Brunei\", \"Dominica\", \"Grenada\", \"Saint Kitts and Nevis\", \"Holy See\", \"Solomon Islands\", \"MS Zaandam\", \"Vanuatu\", \"Marshall Islands\", \"Samoa\", \"Kiribati\", \"Micronesia\"], \"legendgroup\": \"\", \"locationmode\": \"country names\", \"locations\": [\"US\", \"India\", \"Brazil\", \"France\", \"Turkey\", \"Russia\", \"United Kingdom\", \"Italy\", \"Argentina\", \"Germany\", \"Spain\", \"Colombia\", \"Iran\", \"Poland\", \"Mexico\", \"Ukraine\", \"Peru\", \"Indonesia\", \"Netherlands\", \"Czechia\", \"South Africa\", \"Canada\", \"Chile\", \"Philippines\", \"Iraq\", \"Romania\", \"Sweden\", \"Belgium\", \"Pakistan\", \"Portugal\", \"Israel\", \"Hungary\", \"Bangladesh\", \"Japan\", \"Jordan\", \"Serbia\", \"Switzerland\", \"Austria\", \"United Arab Emirates\", \"Malaysia\", \"Nepal\", \"Lebanon\", \"Morocco\", \"Saudi Arabia\", \"Kazakhstan\", \"Ecuador\", \"Bulgaria\", \"Greece\", \"Belarus\", \"Slovakia\", \"Panama\", \"Bolivia\", \"Croatia\", \"Paraguay\", \"Tunisia\", \"Georgia\", \"Azerbaijan\", \"Costa Rica\", \"West Bank and Gaza\", \"Kuwait\", \"Dominican Republic\", \"Uruguay\", \"Denmark\", \"Lithuania\", \"Ethiopia\", \"Egypt\", \"Moldova\", \"Ireland\", \"Slovenia\", \"Guatemala\", \"Honduras\", \"Bahrain\", \"Venezuela\", \"Armenia\", \"Qatar\", \"Oman\", \"Bosnia and Herzegovina\", \"Libya\", \"Sri Lanka\", \"Kenya\", \"Nigeria\", \"North Macedonia\", \"Thailand\", \"Burma\", \"Korea, South\", \"Cuba\", \"Latvia\", \"Albania\", \"Estonia\", \"Algeria\", \"Norway\", \"Kosovo\", \"Kyrgyzstan\", \"China\", \"Uzbekistan\", \"Montenegro\", \"Zambia\", \"Ghana\", \"Finland\", \"Cameroon\", \"El Salvador\", \"Cyprus\", \"Mozambique\", \"Luxembourg\", \"Afghanistan\", \"Singapore\", \"Maldives\", \"Mongolia\", \"Namibia\", \"Botswana\", \"Jamaica\", \"Cote d'Ivoire\", \"Uganda\", \"Senegal\", \"Madagascar\", \"Zimbabwe\", \"Sudan\", \"Malawi\", \"Angola\", \"Congo (Kinshasa)\", \"Malta\", \"Cabo Verde\", \"Australia\", \"Cambodia\", \"Rwanda\", \"Syria\", \"Gabon\", \"Guinea\", \"Trinidad and Tobago\", \"Mauritania\", \"Eswatini\", \"Guyana\", \"Papua New Guinea\", \"Somalia\", \"Suriname\", \"Mali\", \"Haiti\", \"Andorra\", \"Togo\", \"Burkina Faso\", \"Tajikistan\", \"Belize\", \"Bahamas\", \"Congo (Brazzaville)\", \"Djibouti\", \"Seychelles\", \"Lesotho\", \"South Sudan\", \"Equatorial Guinea\", \"Benin\", \"Nicaragua\", \"Taiwan*\", \"Central African Republic\", \"Yemen\", \"Timor-Leste\", \"Iceland\", \"Vietnam\", \"Gambia\", \"Niger\", \"San Marino\", \"Saint Lucia\", \"Chad\", \"Burundi\", \"Sierra Leone\", \"Eritrea\", \"Barbados\", \"Comoros\", \"Guinea-Bissau\", \"Liechtenstein\", \"New Zealand\", \"Monaco\", \"Sao Tome and Principe\", \"Liberia\", \"Saint Vincent and the Grenadines\", \"Laos\", \"Bhutan\", \"Mauritius\", \"Antigua and Barbuda\", \"Diamond Princess\", \"Tanzania\", \"Fiji\", \"Brunei\", \"Dominica\", \"Grenada\", \"Saint Kitts and Nevis\", \"Holy See\", \"Solomon Islands\", \"MS Zaandam\", \"Vanuatu\", \"Marshall Islands\", \"Samoa\", \"Kiribati\", \"Micronesia\"], \"marker\": {\"color\": [33239700, 27555457, 16391930, 5708350, 5228322, 4986458, 4493582, 4209707, 3702422, 3680159, 3668658, 3342567, 2886111, 2870595, 2408778, 2254674, 1942054, 1803361, 1668581, 1660481, 1654551, 1382107, 1361381, 1209154, 1190351, 1077161, 1068473, 1057903, 916239, 847604, 839433, 803567, 796343, 738935, 734659, 711772, 693023, 643709, 565451, 549514, 549111, 539888, 518458, 447178, 438619, 423165, 418106, 398898, 391637, 389440, 376854, 364570, 355617, 348184, 341952, 341894, 333559, 314102, 307569, 305583, 289288, 282198, 279139, 273346, 270944, 259540, 255060, 254870, 253140, 252929, 236451, 232425, 230147, 222513, 216885, 213784, 203839, 184815, 177711, 170041, 166254, 155217, 147039, 143486, 139431, 138899, 132612, 132285, 129297, 128198, 124410, 106946, 103866, 102948, 99580, 99518, 94430, 93775, 92244, 77982, 73246, 72307, 70697, 69830, 69130, 61970, 61844, 56621, 54268, 53771, 48288, 47195, 45231, 41296, 41184, 38918, 35289, 34323, 33944, 31386, 30526, 30122, 30083, 28237, 26878, 24410, 24365, 23110, 22620, 19407, 18587, 16724, 15772, 14647, 14305, 14262, 14037, 13693, 13432, 13424, 13308, 12791, 11684, 11658, 11523, 11145, 10825, 10688, 8476, 8058, 7324, 7315, 7085, 6723, 6622, 6555, 6396, 5990, 5406, 5089, 5035, 4927, 4669, 4140, 4022, 4009, 3879, 3760, 3006, 2670, 2503, 2344, 2179, 2014, 1905, 1503, 1356, 1259, 712, 509, 360, 241, 188, 161, 68, 27, 20, 9, 4, 4, 3, 2, 1], \"coloraxis\": \"coloraxis\", \"size\": [33239700, 27555457, 16391930, 5708350, 5228322, 4986458, 4493582, 4209707, 3702422, 3680159, 3668658, 3342567, 2886111, 2870595, 2408778, 2254674, 1942054, 1803361, 1668581, 1660481, 1654551, 1382107, 1361381, 1209154, 1190351, 1077161, 1068473, 1057903, 916239, 847604, 839433, 803567, 796343, 738935, 734659, 711772, 693023, 643709, 565451, 549514, 549111, 539888, 518458, 447178, 438619, 423165, 418106, 398898, 391637, 389440, 376854, 364570, 355617, 348184, 341952, 341894, 333559, 314102, 307569, 305583, 289288, 282198, 279139, 273346, 270944, 259540, 255060, 254870, 253140, 252929, 236451, 232425, 230147, 222513, 216885, 213784, 203839, 184815, 177711, 170041, 166254, 155217, 147039, 143486, 139431, 138899, 132612, 132285, 129297, 128198, 124410, 106946, 103866, 102948, 99580, 99518, 94430, 93775, 92244, 77982, 73246, 72307, 70697, 69830, 69130, 61970, 61844, 56621, 54268, 53771, 48288, 47195, 45231, 41296, 41184, 38918, 35289, 34323, 33944, 31386, 30526, 30122, 30083, 28237, 26878, 24410, 24365, 23110, 22620, 19407, 18587, 16724, 15772, 14647, 14305, 14262, 14037, 13693, 13432, 13424, 13308, 12791, 11684, 11658, 11523, 11145, 10825, 10688, 8476, 8058, 7324, 7315, 7085, 6723, 6622, 6555, 6396, 5990, 5406, 5089, 5035, 4927, 4669, 4140, 4022, 4009, 3879, 3760, 3006, 2670, 2503, 2344, 2179, 2014, 1905, 1503, 1356, 1259, 712, 509, 360, 241, 188, 161, 68, 27, 20, 9, 4, 4, 3, 2, 1], \"sizemode\": \"area\", \"sizeref\": 20774.8125, \"symbol\": \"circle\"}, \"mode\": \"markers\", \"name\": \"\", \"showlegend\": false, \"type\": \"scattergeo\"}],                        {\"coloraxis\": {\"colorbar\": {\"title\": {\"text\": \"Confirmed\"}}, \"colorscale\": [[0.0, \"#0d0887\"], [0.1111111111111111, \"#46039f\"], [0.2222222222222222, \"#7201a8\"], [0.3333333333333333, \"#9c179e\"], [0.4444444444444444, \"#bd3786\"], [0.5555555555555556, \"#d8576b\"], [0.6666666666666666, \"#ed7953\"], [0.7777777777777778, \"#fb9f3a\"], [0.8888888888888888, \"#fdca26\"], [1.0, \"#f0f921\"]]}, \"geo\": {\"center\": {}, \"domain\": {\"x\": [0.0, 1.0], \"y\": [0.0, 1.0]}}, \"height\": 600, \"legend\": {\"itemsizing\": \"constant\", \"tracegroupgap\": 0}, \"margin\": {\"t\": 60}, \"template\": {\"data\": {\"bar\": [{\"error_x\": {\"color\": \"#f2f5fa\"}, \"error_y\": {\"color\": \"#f2f5fa\"}, \"marker\": {\"line\": {\"color\": \"rgb(17,17,17)\", \"width\": 0.5}}, \"type\": \"bar\"}], \"barpolar\": [{\"marker\": {\"line\": {\"color\": \"rgb(17,17,17)\", \"width\": 0.5}}, \"type\": \"barpolar\"}], \"carpet\": [{\"aaxis\": {\"endlinecolor\": \"#A2B1C6\", \"gridcolor\": \"#506784\", \"linecolor\": \"#506784\", \"minorgridcolor\": \"#506784\", \"startlinecolor\": \"#A2B1C6\"}, \"baxis\": {\"endlinecolor\": \"#A2B1C6\", \"gridcolor\": \"#506784\", \"linecolor\": \"#506784\", \"minorgridcolor\": \"#506784\", \"startlinecolor\": \"#A2B1C6\"}, \"type\": \"carpet\"}], \"choropleth\": [{\"colorbar\": {\"outlinewidth\": 0, \"ticks\": \"\"}, \"type\": \"choropleth\"}], \"contour\": [{\"colorbar\": {\"outlinewidth\": 0, \"ticks\": \"\"}, \"colorscale\": [[0.0, \"#0d0887\"], [0.1111111111111111, \"#46039f\"], [0.2222222222222222, \"#7201a8\"], [0.3333333333333333, \"#9c179e\"], [0.4444444444444444, \"#bd3786\"], [0.5555555555555556, \"#d8576b\"], [0.6666666666666666, \"#ed7953\"], [0.7777777777777778, \"#fb9f3a\"], [0.8888888888888888, \"#fdca26\"], [1.0, \"#f0f921\"]], \"type\": \"contour\"}], \"contourcarpet\": [{\"colorbar\": {\"outlinewidth\": 0, \"ticks\": \"\"}, \"type\": \"contourcarpet\"}], \"heatmap\": [{\"colorbar\": {\"outlinewidth\": 0, \"ticks\": \"\"}, \"colorscale\": [[0.0, \"#0d0887\"], [0.1111111111111111, \"#46039f\"], [0.2222222222222222, \"#7201a8\"], [0.3333333333333333, \"#9c179e\"], [0.4444444444444444, \"#bd3786\"], [0.5555555555555556, \"#d8576b\"], [0.6666666666666666, \"#ed7953\"], [0.7777777777777778, \"#fb9f3a\"], [0.8888888888888888, \"#fdca26\"], [1.0, \"#f0f921\"]], \"type\": \"heatmap\"}], \"heatmapgl\": [{\"colorbar\": {\"outlinewidth\": 0, \"ticks\": \"\"}, \"colorscale\": [[0.0, \"#0d0887\"], [0.1111111111111111, \"#46039f\"], [0.2222222222222222, \"#7201a8\"], [0.3333333333333333, \"#9c179e\"], [0.4444444444444444, \"#bd3786\"], [0.5555555555555556, \"#d8576b\"], [0.6666666666666666, \"#ed7953\"], [0.7777777777777778, \"#fb9f3a\"], [0.8888888888888888, \"#fdca26\"], [1.0, \"#f0f921\"]], \"type\": \"heatmapgl\"}], \"histogram\": [{\"marker\": {\"colorbar\": {\"outlinewidth\": 0, \"ticks\": \"\"}}, \"type\": \"histogram\"}], \"histogram2d\": [{\"colorbar\": {\"outlinewidth\": 0, \"ticks\": \"\"}, \"colorscale\": [[0.0, \"#0d0887\"], [0.1111111111111111, \"#46039f\"], [0.2222222222222222, \"#7201a8\"], [0.3333333333333333, \"#9c179e\"], [0.4444444444444444, \"#bd3786\"], [0.5555555555555556, \"#d8576b\"], [0.6666666666666666, \"#ed7953\"], [0.7777777777777778, \"#fb9f3a\"], [0.8888888888888888, \"#fdca26\"], [1.0, \"#f0f921\"]], \"type\": \"histogram2d\"}], \"histogram2dcontour\": [{\"colorbar\": {\"outlinewidth\": 0, \"ticks\": \"\"}, \"colorscale\": [[0.0, \"#0d0887\"], [0.1111111111111111, \"#46039f\"], [0.2222222222222222, \"#7201a8\"], [0.3333333333333333, \"#9c179e\"], [0.4444444444444444, \"#bd3786\"], [0.5555555555555556, \"#d8576b\"], [0.6666666666666666, \"#ed7953\"], [0.7777777777777778, \"#fb9f3a\"], [0.8888888888888888, \"#fdca26\"], [1.0, \"#f0f921\"]], \"type\": \"histogram2dcontour\"}], \"mesh3d\": [{\"colorbar\": {\"outlinewidth\": 0, \"ticks\": \"\"}, \"type\": \"mesh3d\"}], \"parcoords\": [{\"line\": {\"colorbar\": {\"outlinewidth\": 0, \"ticks\": \"\"}}, \"type\": \"parcoords\"}], \"pie\": [{\"automargin\": true, \"type\": \"pie\"}], \"scatter\": [{\"marker\": {\"line\": {\"color\": \"#283442\"}}, \"type\": \"scatter\"}], \"scatter3d\": [{\"line\": {\"colorbar\": {\"outlinewidth\": 0, \"ticks\": \"\"}}, \"marker\": {\"colorbar\": {\"outlinewidth\": 0, \"ticks\": \"\"}}, \"type\": \"scatter3d\"}], \"scattercarpet\": [{\"marker\": {\"colorbar\": {\"outlinewidth\": 0, \"ticks\": \"\"}}, \"type\": \"scattercarpet\"}], \"scattergeo\": [{\"marker\": {\"colorbar\": {\"outlinewidth\": 0, \"ticks\": \"\"}}, \"type\": \"scattergeo\"}], \"scattergl\": [{\"marker\": {\"line\": {\"color\": \"#283442\"}}, \"type\": \"scattergl\"}], \"scattermapbox\": [{\"marker\": {\"colorbar\": {\"outlinewidth\": 0, \"ticks\": \"\"}}, \"type\": \"scattermapbox\"}], \"scatterpolar\": [{\"marker\": {\"colorbar\": {\"outlinewidth\": 0, \"ticks\": \"\"}}, \"type\": \"scatterpolar\"}], \"scatterpolargl\": [{\"marker\": {\"colorbar\": {\"outlinewidth\": 0, \"ticks\": \"\"}}, \"type\": \"scatterpolargl\"}], \"scatterternary\": [{\"marker\": {\"colorbar\": {\"outlinewidth\": 0, \"ticks\": \"\"}}, \"type\": \"scatterternary\"}], \"surface\": [{\"colorbar\": {\"outlinewidth\": 0, \"ticks\": \"\"}, \"colorscale\": [[0.0, \"#0d0887\"], [0.1111111111111111, \"#46039f\"], [0.2222222222222222, \"#7201a8\"], [0.3333333333333333, \"#9c179e\"], [0.4444444444444444, \"#bd3786\"], [0.5555555555555556, \"#d8576b\"], [0.6666666666666666, \"#ed7953\"], [0.7777777777777778, \"#fb9f3a\"], [0.8888888888888888, \"#fdca26\"], [1.0, \"#f0f921\"]], \"type\": \"surface\"}], \"table\": [{\"cells\": {\"fill\": {\"color\": \"#506784\"}, \"line\": {\"color\": \"rgb(17,17,17)\"}}, \"header\": {\"fill\": {\"color\": \"#2a3f5f\"}, \"line\": {\"color\": \"rgb(17,17,17)\"}}, \"type\": \"table\"}]}, \"layout\": {\"annotationdefaults\": {\"arrowcolor\": \"#f2f5fa\", \"arrowhead\": 0, \"arrowwidth\": 1}, \"autotypenumbers\": \"strict\", \"coloraxis\": {\"colorbar\": {\"outlinewidth\": 0, \"ticks\": \"\"}}, \"colorscale\": {\"diverging\": [[0, \"#8e0152\"], [0.1, \"#c51b7d\"], [0.2, \"#de77ae\"], [0.3, \"#f1b6da\"], [0.4, \"#fde0ef\"], [0.5, \"#f7f7f7\"], [0.6, \"#e6f5d0\"], [0.7, \"#b8e186\"], [0.8, \"#7fbc41\"], [0.9, \"#4d9221\"], [1, \"#276419\"]], \"sequential\": [[0.0, \"#0d0887\"], [0.1111111111111111, \"#46039f\"], [0.2222222222222222, \"#7201a8\"], [0.3333333333333333, \"#9c179e\"], [0.4444444444444444, \"#bd3786\"], [0.5555555555555556, \"#d8576b\"], [0.6666666666666666, \"#ed7953\"], [0.7777777777777778, \"#fb9f3a\"], [0.8888888888888888, \"#fdca26\"], [1.0, \"#f0f921\"]], \"sequentialminus\": [[0.0, \"#0d0887\"], [0.1111111111111111, \"#46039f\"], [0.2222222222222222, \"#7201a8\"], [0.3333333333333333, \"#9c179e\"], [0.4444444444444444, \"#bd3786\"], [0.5555555555555556, \"#d8576b\"], [0.6666666666666666, \"#ed7953\"], [0.7777777777777778, \"#fb9f3a\"], [0.8888888888888888, \"#fdca26\"], [1.0, \"#f0f921\"]]}, \"colorway\": [\"#636efa\", \"#EF553B\", \"#00cc96\", \"#ab63fa\", \"#FFA15A\", \"#19d3f3\", \"#FF6692\", \"#B6E880\", \"#FF97FF\", \"#FECB52\"], \"font\": {\"color\": \"#f2f5fa\"}, \"geo\": {\"bgcolor\": \"rgb(17,17,17)\", \"lakecolor\": \"rgb(17,17,17)\", \"landcolor\": \"rgb(17,17,17)\", \"showlakes\": true, \"showland\": true, \"subunitcolor\": \"#506784\"}, \"hoverlabel\": {\"align\": \"left\"}, \"hovermode\": \"closest\", \"mapbox\": {\"style\": \"dark\"}, \"paper_bgcolor\": \"rgb(17,17,17)\", \"plot_bgcolor\": \"rgb(17,17,17)\", \"polar\": {\"angularaxis\": {\"gridcolor\": \"#506784\", \"linecolor\": \"#506784\", \"ticks\": \"\"}, \"bgcolor\": \"rgb(17,17,17)\", \"radialaxis\": {\"gridcolor\": \"#506784\", \"linecolor\": \"#506784\", \"ticks\": \"\"}}, \"scene\": {\"xaxis\": {\"backgroundcolor\": \"rgb(17,17,17)\", \"gridcolor\": \"#506784\", \"gridwidth\": 2, \"linecolor\": \"#506784\", \"showbackground\": true, \"ticks\": \"\", \"zerolinecolor\": \"#C8D4E3\"}, \"yaxis\": {\"backgroundcolor\": \"rgb(17,17,17)\", \"gridcolor\": \"#506784\", \"gridwidth\": 2, \"linecolor\": \"#506784\", \"showbackground\": true, \"ticks\": \"\", \"zerolinecolor\": \"#C8D4E3\"}, \"zaxis\": {\"backgroundcolor\": \"rgb(17,17,17)\", \"gridcolor\": \"#506784\", \"gridwidth\": 2, \"linecolor\": \"#506784\", \"showbackground\": true, \"ticks\": \"\", \"zerolinecolor\": \"#C8D4E3\"}}, \"shapedefaults\": {\"line\": {\"color\": \"#f2f5fa\"}}, \"sliderdefaults\": {\"bgcolor\": \"#C8D4E3\", \"bordercolor\": \"rgb(17,17,17)\", \"borderwidth\": 1, \"tickwidth\": 0}, \"ternary\": {\"aaxis\": {\"gridcolor\": \"#506784\", \"linecolor\": \"#506784\", \"ticks\": \"\"}, \"baxis\": {\"gridcolor\": \"#506784\", \"linecolor\": \"#506784\", \"ticks\": \"\"}, \"bgcolor\": \"rgb(17,17,17)\", \"caxis\": {\"gridcolor\": \"#506784\", \"linecolor\": \"#506784\", \"ticks\": \"\"}}, \"title\": {\"x\": 0.05}, \"updatemenudefaults\": {\"bgcolor\": \"#506784\", \"borderwidth\": 0}, \"xaxis\": {\"automargin\": true, \"gridcolor\": \"#283442\", \"linecolor\": \"#506784\", \"ticks\": \"\", \"title\": {\"standoff\": 15}, \"zerolinecolor\": \"#283442\", \"zerolinewidth\": 2}, \"yaxis\": {\"automargin\": true, \"gridcolor\": \"#283442\", \"linecolor\": \"#506784\", \"ticks\": \"\", \"title\": {\"standoff\": 15}, \"zerolinecolor\": \"#283442\", \"zerolinewidth\": 2}}}, \"width\": 1200},                        {\"responsive\": true}                    ).then(function(){\n",
       "                            \n",
       "var gd = document.getElementById('bcfc4d01-9323-4e36-8704-929bce1ee5a7');\n",
       "var x = new MutationObserver(function (mutations, observer) {{\n",
       "        var display = window.getComputedStyle(gd).display;\n",
       "        if (!display || display === 'none') {{\n",
       "            console.log([gd, 'removed!']);\n",
       "            Plotly.purge(gd);\n",
       "            observer.disconnect();\n",
       "        }}\n",
       "}});\n",
       "\n",
       "// Listen for the removal of the full notebook cells\n",
       "var notebookContainer = gd.closest('#notebook-container');\n",
       "if (notebookContainer) {{\n",
       "    x.observe(notebookContainer, {childList: true});\n",
       "}}\n",
       "\n",
       "// Listen for the clearing of the current output cell\n",
       "var outputEl = gd.closest('.output');\n",
       "if (outputEl) {{\n",
       "    x.observe(outputEl, {childList: true});\n",
       "}}\n",
       "\n",
       "                        })                };                });            </script>        </div>"
      ]
     },
     "metadata": {},
     "output_type": "display_data"
    }
   ],
   "source": [
    "figures = px.scatter_geo(countries_df, \n",
    "                         size_max=40,\n",
    "                         locations=\"Country Region\", \n",
    "                         locationmode=\"country names\",\n",
    "                         hover_name=\"Country Region\", \n",
    "                         hover_data={\"Confirmed\":\":,2f\",\"Deaths\":\":,2f\", \"Recovered\":\":,2f\", \"Country Region\":False}, \n",
    "                         color=\"Confirmed\",\n",
    "                         size=\"Confirmed\",\n",
    "                         template=\"plotly_dark\",\n",
    "                         width=1200,\n",
    "                         height=600\n",
    "                        )\n",
    "                        \n",
    "figures.show()"
   ]
  },
  {
   "cell_type": "code",
   "execution_count": null,
   "id": "79ff8f77",
   "metadata": {},
   "outputs": [],
   "source": []
  }
 ],
 "metadata": {
  "kernelspec": {
   "display_name": "Python 3",
   "language": "python",
   "name": "python3"
  },
  "language_info": {
   "codemirror_mode": {
    "name": "ipython",
    "version": 3
   },
   "file_extension": ".py",
   "mimetype": "text/x-python",
   "name": "python",
   "nbconvert_exporter": "python",
   "pygments_lexer": "ipython3",
   "version": "3.9.5"
  },
  "varInspector": {
   "cols": {
    "lenName": 16,
    "lenType": 16,
    "lenVar": 40
   },
   "kernels_config": {
    "python": {
     "delete_cmd_postfix": "",
     "delete_cmd_prefix": "del ",
     "library": "var_list.py",
     "varRefreshCmd": "print(var_dic_list())"
    },
    "r": {
     "delete_cmd_postfix": ") ",
     "delete_cmd_prefix": "rm(",
     "library": "var_list.r",
     "varRefreshCmd": "cat(var_dic_list()) "
    }
   },
   "types_to_exclude": [
    "module",
    "function",
    "builtin_function_or_method",
    "instance",
    "_Feature"
   ],
   "window_display": false
  }
 },
 "nbformat": 4,
 "nbformat_minor": 5
}
